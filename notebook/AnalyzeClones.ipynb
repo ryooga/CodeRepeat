{
 "cells": [
  {
   "cell_type": "code",
   "execution_count": 1,
   "metadata": {},
   "outputs": [],
   "source": [
    "import ijson\n",
    "import pandas as pd\n",
    "import codecs"
   ]
  },
  {
   "cell_type": "code",
   "execution_count": 4,
   "metadata": {},
   "outputs": [],
   "source": [
    "f = codecs.open(\"../../code-clone-experiment/fiber-master.json\", errors='ignore', encoding='ascii')"
   ]
  },
  {
   "cell_type": "code",
   "execution_count": 5,
   "metadata": {},
   "outputs": [],
   "source": [
    "mapping = ijson.items(f, 'file_starts')"
   ]
  },
  {
   "cell_type": "code",
   "execution_count": 6,
   "metadata": {},
   "outputs": [
    {
     "data": {
      "text/plain": [
       "<generator object coros2gen at 0x7fae06b51a50>"
      ]
     },
     "execution_count": 6,
     "metadata": {},
     "output_type": "execute_result"
    }
   ],
   "source": [
    "mapping"
   ]
  },
  {
   "cell_type": "code",
   "execution_count": 7,
   "metadata": {},
   "outputs": [],
   "source": [
    "repeats = ijson.items(f, 'repeats.item')"
   ]
  },
  {
   "cell_type": "code",
   "execution_count": 8,
   "metadata": {},
   "outputs": [],
   "source": [
    "clones=[]\n",
    "for repeat in repeats:\n",
    "    if len(repeat['text']) > 100 and len(repeat['positions']) > 10:\n",
    "        clones.append({'occurrences':len(repeat['positions']), 'text':repeat['text']})"
   ]
  },
  {
   "cell_type": "code",
   "execution_count": 9,
   "metadata": {},
   "outputs": [],
   "source": [
    "sorted_by_len = sorted(clones, key=lambda x: len(x['text']), reverse=True)"
   ]
  },
  {
   "cell_type": "code",
   "execution_count": 10,
   "metadata": {},
   "outputs": [
    {
     "data": {
      "text/plain": [
       "{'occurrences': 12,\n",
       " 'text': '> <a href=\"https://github.com/gofiber/fiber/blob/master/.github/README_pt.md\"> <img height=\"20px\" src=\"https://img.shields.io/badge/PT-flag.svg?color=555555&style=flat&logo=data:image/svg+xml;base64,PD94bWwgdmVyc2lvbj0iMS4wIiBlbmNvZGluZz0iaXNvLTg4NTktMSI/Pgo8IS0tIEdlbmVyYXRvcjogQWRvYmUgSWxsdXN0cmF0b3IgMTkuMC4wLCBTVkcgRXhwb3J0IFBsdWctSW4gLiBTVkcgVmVyc2lvbjogNi4wMCBCdWlsZCAwKSAgLS0+CjxzdmcgeG1sbnM9Imh0dHA6Ly93d3cudzMub3JnLzIwMDAvc3ZnIiB4bWxuczp4bGluaz0iaHR0cDovL3d3dy53My5vcmcvMTk5OS94bGluayIgdmVyc2lvbj0iMS4xIiBpZD0iQ2FwYV8xIiB4PSIwcHgiIHk9IjBweCIgdmlld0JveD0iMCAwIDUxMiA1MTIiIHN0eWxlPSJlbmFibGUtYmFja2dyb3VuZDpuZXcgMCAwIDUxMiA1MTI7IiB4bWw6c3BhY2U9InByZXNlcnZlIj4KPHJlY3QgeT0iODUuMzM3IiBzdHlsZT0iZmlsbDojRDgwMDI3OyIgd2lkdGg9IjUxMiIgaGVpZ2h0PSIzNDEuMzI2Ii8+Cjxwb2x5Z29uIHN0eWxlPSJmaWxsOiM2REE1NDQ7IiBwb2ludHM9IjE5Ni42NDEsODUuMzM3IDE5Ni42NDEsMjYxLjU2NSAxOTYuNjQxLDQyNi42NjMgMCw0MjYuNjYzIDAsODUuMzM3ICIvPgo8Y2lyY2xlIHN0eWxlPSJmaWxsOiNGRkRBNDQ7IiBjeD0iMTk2LjY0MSIgY3k9IjI1NiIgcj0iNjQiLz4KPHBhdGggc3R5bGU9ImZpbGw6I0Q4MDAyNzsiIGQ9Ik0xNjAuNjM4LDIyNHY0MC4wMDFjMCwxOS44ODIsMTYuMTE4LDM2LDM2LDM2czM2LTE2LjExOCwzNi0zNlYyMjRIMTYwLjYzOHoiLz4KPHBhdGggc3R5bGU9ImZpbGw6I0YwRjBGMDsiIGQ9Ik0xOTYuNjM4LDI3NmMtNi42MTcsMC0xMi01LjM4My0xMi0xMnYtMTZoMjQuMDAxdjE2QzIwOC42MzgsMjcwLjYxNiwyMDMuMjU0LDI3NiwxOTYuNjM4LDI3NnoiLz4KPGc+CjwvZz4KPGc+CjwvZz4KPGc+CjwvZz4KPGc+CjwvZz4KPGc+CjwvZz4KPGc+CjwvZz4KPGc+CjwvZz4KPGc+CjwvZz4KPGc+CjwvZz4KPGc+CjwvZz4KPGc+CjwvZz4KPGc+CjwvZz4KPGc+CjwvZz4KPGc+CjwvZz4KPGc+CjwvZz4KPC9zdmc+Cg==\"> </a> <a href=\"https://github.com/gofiber/fiber/blob/master/.github/README_zh-CN.md\"> <img height=\"20px\" src=\"https://img.shields.io/badge/CN-flag.svg?color=555555&style=flat&logo=data:image/svg+xml;base64,PHN2ZyB4bWxucz0iaHR0cDovL3d3dy53My5vcmcvMjAwMC9zdmciIHZpZXdCb3g9IjAgMCAxMjAwIDgwMCIgeG1sbnM6eGxpbms9Imh0dHA6Ly93d3cudzMub3JnLzE5OTkveGxpbmsiPg0KPHBhdGggZmlsbD0iI2RlMjkxMCIgZD0ibTAsMGgxMjAwdjgwMGgtMTIwMHoiLz4NCjxwYXRoIGZpbGw9IiNmZmRlMDAiIGQ9Im0tMTYuNTc5Niw5OS42MDA3bDIuMzY4Ni04LjEwMzItNi45NTMtNC43ODgzIDguNDM4Ni0uMjUxNCAyLjQwNTMtOC4wOTI0IDIuODQ2Nyw3Ljk0NzkgOC40Mzk2LS4yMTMxLTYuNjc5Miw1LjE2MzQgMi44MTA2LDcuOTYwNy02Ljk3NDctNC43NTY3LTYuNzAyNSw1LjEzMzF6IiB0cmFuc2Zvcm09Im1hdHJpeCg5LjkzMzUyIC4yNzc0NyAtLjI3NzQ3IDkuOTMzNTIgMzI0LjI5MjUgLTY5NS4yNDE1KSIvPg0KPHBhdGggZmlsbD0iI2ZmZGUwMCIgaWQ9InN0YXIiIGQ9Im0zNjUuODU1MiwzMzIuNjg5NWwyOC4zMDY4LDExLjM3NTcgMTkuNjcyMi0yMy4zMTcxLTIuMDcxNiwzMC40MzY3IDI4LjI1NDksMTEuNTA0LTI5LjU4NzIsNy40MzUyLTIuMjA5NywzMC40MjY5LTE2LjIxNDItMjUuODQxNS0yOS42MjA2LDcuMzAwOSAxOS41NjYyLTIzLjQwNjEtMTYuMDk2OC0yNS45MTQ4eiIvPg0KPGcgZmlsbD0iI2ZmZGUwMCI+DQo8cGF0aCBkPSJtNTE5LjA3NzksMTc5LjMxMjlsLTMwLjA1MzQtNS4yNDE4LTE0LjM5NDUsMjYuODk3Ni00LjMwMTctMzAuMjAyMy0zMC4wMjkzLTUuMzc4MSAyNy4zOTQ4LTEzLjQyNDItNC4xNjQ3LTMwLjIyMTUgMjEuMjMyNiwyMS45MDU3IDI3LjQ1NTQtMTMuMjk5OC0xNC4yNzIzLDI2Ljk2MjcgMjEuMTMzMSwyMi4wMDE3eiIvPg0KPHBhdGggZD0ibTQ1NS4yNTkyLDMxNS45Nzk1bDkuMzczNC0yOS4wMzE0LTI0LjYzMjUtMTcuOTk3OCAzMC41MDctLjA1NjYgOS41MDUtMjguOTg4NiA5LjQ4MSwyOC45OTY0IDMwLjUwNywuMDgxOC0yNC42NDc0LDE3Ljk3NzQgOS4zNDkzLDI5LjAzOTItMjQuNzE0LTE3Ljg4NTgtMjQuNzI4OCwxNy44NjUzeiIvPg0KPC9nPg0KPHVzZSB4bGluazpocmVmPSIjc3RhciIgdHJhbnNmb3JtPSJtYXRyaXgoLjk5ODYzIC4wNTIzNCAtLjA1MjM0IC45OTg2MyAxOS40MDAwNSAtMzAwLjUzNjgxKSIvPg0KPC9zdmc+DQo=\"> </a> <a href=\"https://github.com/gofiber/fiber/blob/master/.github/README_zh-TW.md\"> <img height=\"20px\" src=\"https://img.shields.io/badge/TW-flag.svg?color=555555&style=flat&logo=data:image/svg+xml;base64,PD94bWwgdmVyc2lvbj0iMS4wIiBlbmNvZGluZz0iVVRGLTgiPz4NCjwhRE9DVFlQRSBzdmc+DQo8c3ZnIHdpZHRoPSI5MDAiIGhlaWdodD0iNjAwIiB2aWV3Qm94PSItNjAgLTQwIDI0MCAxNjAiIHhtbG5zPSJodHRwOi8vd3d3LnczLm9yZy8yMDAwL3N2ZyIgeG1sbnM6eGxpbms9Imh0dHA6Ly93d3cudzMub3JnLzE5OTkveGxpbmsiPg0KICAgPHJlY3QgeD0iLTYwIiB5PSItNDAiIHdpZHRoPSIxMDAlIiBoZWlnaHQ9IjEwMCUiIGZpbGw9IiNmZTAwMDAiLz4NCiAgIDxyZWN0IHg9Ii02MCIgeT0iLTQwIiB3aWR0aD0iNTAlIiBoZWlnaHQ9IjUwJSIgZmlsbD0iIzAwMDA5NSIvPg0KICAgPHBhdGggaWQ9ImZvdXJfcmF5cyIgZD0iTSA4LDAgTCAwLDMwIEwgLTgsMCBMIDAsLTMwIE0gMCw4IEwgMzAsMCBMIDAsLTggTCAtMzAsMCIgZmlsbD0iI2ZmZiIvPg0KICAgPHVzZSB4bGluazpocmVmPSIjZm91cl9yYXlzIiB0cmFuc2Zvcm09InJvdGF0ZSgzMCkiLz4NCiAgIDx1c2UgeGxpbms6aHJlZj0iI2ZvdXJfcmF5cyIgdHJhbnNmb3JtPSJyb3RhdGUoNjApIi8+DQogICA8Y2lyY2xlIHI9IjE3IiBmaWxsPSIjMDAwMDk1Ii8+DQogICA8Y2lyY2xlIHI9IjE1IiBmaWxsPSIjZmZmIi8+DQo8L3N2Zz4=\"> </a> <'}"
      ]
     },
     "execution_count": 10,
     "metadata": {},
     "output_type": "execute_result"
    }
   ],
   "source": [
    "sorted_by_len[7]"
   ]
  },
  {
   "cell_type": "code",
   "execution_count": 11,
   "metadata": {},
   "outputs": [],
   "source": [
    "sorted_by_occ = sorted(clones, key=lambda x: x['occurrences'], reverse=True)"
   ]
  },
  {
   "cell_type": "code",
   "execution_count": 12,
   "metadata": {},
   "outputs": [
    {
     "data": {
      "text/plain": [
       "{'occurrences': 60,\n",
       " 'text': ' (CC BY-SA 4.0 International). **Third-party library licenses** - [schema](https://github.com/gorilla/schema/blob/master/LICENSE) - [fasthttp](https://github.com/valyala/fasthttp/blob/master/LICENSE) - [fasttemplate](https://github.com/valyala/fasttemplate/blob/master/LICENSE) - [bytebufferpool](https://github.com/valyala/bytebufferpool/blob/master/LICENSE) '}"
      ]
     },
     "execution_count": 12,
     "metadata": {},
     "output_type": "execute_result"
    }
   ],
   "source": [
    "sorted_by_occ[7]"
   ]
  },
  {
   "cell_type": "code",
   "execution_count": 30,
   "metadata": {},
   "outputs": [],
   "source": [
    "import ijson\n",
    "import codecs\n",
    "import jsonstreams\n",
    "m = 1000\n",
    "occ = 10\n",
    "f = codecs.open(\"../../code-clone-experiment/fiber-master.json\", errors='ignore', encoding='ascii')\n",
    "out_file = \"../../code-clone-experiment/fiber-filtered.json\"\n",
    "ver = ijson.items(f, 'version.items')\n",
    "file_starts = next(ijson.items(f, 'file_starts'))\n",
    "repeats = ijson.items(f, 'repeats.items')\n",
    "# with jsonstreams.Stream(jsonstreams.Type.object, out_file) as s:\n",
    "#         s.write('version', ver)\n",
    "#         s.write('file_starts', file_starts)\n",
    "            "
   ]
  },
  {
   "cell_type": "code",
   "execution_count": 32,
   "metadata": {},
   "outputs": [
    {
     "ename": "IncompleteJSONError",
     "evalue": "parse error: unallowed token at this point in JSON text\n                                       , \t\t\t\t740240, \t\t\t\t740108, \t\t\t\t7\n                     (right here) ------^\n",
     "output_type": "error",
     "traceback": [
      "\u001b[0;31m---------------------------------------------------------------------------\u001b[0m",
      "\u001b[0;31mIncompleteJSONError\u001b[0m                       Traceback (most recent call last)",
      "\u001b[0;32m<ipython-input-32-b0d0929d190d>\u001b[0m in \u001b[0;36m<module>\u001b[0;34m\u001b[0m\n\u001b[0;32m----> 1\u001b[0;31m \u001b[0mnext\u001b[0m\u001b[0;34m(\u001b[0m\u001b[0mver\u001b[0m\u001b[0;34m)\u001b[0m\u001b[0;34m\u001b[0m\u001b[0;34m\u001b[0m\u001b[0m\n\u001b[0m",
      "\u001b[0;32m~/anaconda3/envs/code-clone/lib/python3.8/site-packages/ijson/utils.py\u001b[0m in \u001b[0;36mcoros2gen\u001b[0;34m(source, *coro_pipeline)\u001b[0m\n\u001b[1;32m     53\u001b[0m         \u001b[0;32mfor\u001b[0m \u001b[0mvalue\u001b[0m \u001b[0;32min\u001b[0m \u001b[0msource\u001b[0m\u001b[0;34m:\u001b[0m\u001b[0;34m\u001b[0m\u001b[0;34m\u001b[0m\u001b[0m\n\u001b[1;32m     54\u001b[0m             \u001b[0;32mtry\u001b[0m\u001b[0;34m:\u001b[0m\u001b[0;34m\u001b[0m\u001b[0;34m\u001b[0m\u001b[0m\n\u001b[0;32m---> 55\u001b[0;31m                 \u001b[0mf\u001b[0m\u001b[0;34m.\u001b[0m\u001b[0msend\u001b[0m\u001b[0;34m(\u001b[0m\u001b[0mvalue\u001b[0m\u001b[0;34m)\u001b[0m\u001b[0;34m\u001b[0m\u001b[0;34m\u001b[0m\u001b[0m\n\u001b[0m\u001b[1;32m     56\u001b[0m             \u001b[0;32mexcept\u001b[0m \u001b[0mStopIteration\u001b[0m\u001b[0;34m:\u001b[0m\u001b[0;34m\u001b[0m\u001b[0;34m\u001b[0m\u001b[0m\n\u001b[1;32m     57\u001b[0m                 \u001b[0;32mfor\u001b[0m \u001b[0mevent\u001b[0m \u001b[0;32min\u001b[0m \u001b[0mevents\u001b[0m\u001b[0;34m:\u001b[0m\u001b[0;34m\u001b[0m\u001b[0;34m\u001b[0m\u001b[0m\n",
      "\u001b[0;32m~/anaconda3/envs/code-clone/lib/python3.8/site-packages/ijson/backends/yajl2.py\u001b[0m in \u001b[0;36mbasic_parse_basecoro\u001b[0;34m(target, allow_comments, multiple_values)\u001b[0m\n\u001b[1;32m     99\u001b[0m                 \u001b[0myajl\u001b[0m\u001b[0;34m.\u001b[0m\u001b[0myajl_free_error\u001b[0m\u001b[0;34m(\u001b[0m\u001b[0mhandle\u001b[0m\u001b[0;34m,\u001b[0m \u001b[0mperror\u001b[0m\u001b[0;34m)\u001b[0m\u001b[0;34m\u001b[0m\u001b[0;34m\u001b[0m\u001b[0m\n\u001b[1;32m    100\u001b[0m                 \u001b[0mexception\u001b[0m \u001b[0;34m=\u001b[0m \u001b[0mcommon\u001b[0m\u001b[0;34m.\u001b[0m\u001b[0mIncompleteJSONError\u001b[0m \u001b[0;32mif\u001b[0m \u001b[0mresult\u001b[0m \u001b[0;34m==\u001b[0m \u001b[0mYAJL_INSUFFICIENT_DATA\u001b[0m \u001b[0;32melse\u001b[0m \u001b[0mcommon\u001b[0m\u001b[0;34m.\u001b[0m\u001b[0mJSONError\u001b[0m\u001b[0;34m\u001b[0m\u001b[0;34m\u001b[0m\u001b[0m\n\u001b[0;32m--> 101\u001b[0;31m                 \u001b[0;32mraise\u001b[0m \u001b[0mexception\u001b[0m\u001b[0;34m(\u001b[0m\u001b[0merror\u001b[0m\u001b[0;34m.\u001b[0m\u001b[0mdecode\u001b[0m\u001b[0;34m(\u001b[0m\u001b[0;34m'utf-8'\u001b[0m\u001b[0;34m)\u001b[0m\u001b[0;34m)\u001b[0m\u001b[0;34m\u001b[0m\u001b[0;34m\u001b[0m\u001b[0m\n\u001b[0m\u001b[1;32m    102\u001b[0m             \u001b[0;32mif\u001b[0m \u001b[0;32mnot\u001b[0m \u001b[0mbuffer\u001b[0m\u001b[0;34m:\u001b[0m\u001b[0;34m\u001b[0m\u001b[0;34m\u001b[0m\u001b[0m\n\u001b[1;32m    103\u001b[0m                 \u001b[0;32mbreak\u001b[0m\u001b[0;34m\u001b[0m\u001b[0;34m\u001b[0m\u001b[0m\n",
      "\u001b[0;31mIncompleteJSONError\u001b[0m: parse error: unallowed token at this point in JSON text\n                                       , \t\t\t\t740240, \t\t\t\t740108, \t\t\t\t7\n                     (right here) ------^\n"
     ]
    }
   ],
   "source": [
    "next(ver)"
   ]
  },
  {
   "cell_type": "code",
   "execution_count": 23,
   "metadata": {},
   "outputs": [
    {
     "data": {
      "text/plain": [
       "{'../code-clone-experiment/fiber-master/.github/.editorconfig': 0,\n",
       " '../code-clone-experiment/fiber-master/.github/CODEOWNERS': 1,\n",
       " '../code-clone-experiment/fiber-master/.github/CODE_OF_CONDUCT.md': 24,\n",
       " '../code-clone-experiment/fiber-master/.github/CONTRIBUTING.md': 5225,\n",
       " '../code-clone-experiment/fiber-master/.github/FUNDING.yml': 7056,\n",
       " '../code-clone-experiment/fiber-master/.github/ISSUE_TEMPLATE/---bug.md': 7471,\n",
       " '../code-clone-experiment/fiber-master/.github/ISSUE_TEMPLATE/---feature.md': 7787,\n",
       " '../code-clone-experiment/fiber-master/.github/ISSUE_TEMPLATE/---question.md': 8075,\n",
       " '../code-clone-experiment/fiber-master/.github/PULL_REQUEST_TEMPLATE/pull_request_template.md': 8359,\n",
       " '../code-clone-experiment/fiber-master/.github/README.md': 8451,\n",
       " '../code-clone-experiment/fiber-master/.github/README_ar_SA.md': 43069,\n",
       " '../code-clone-experiment/fiber-master/.github/README_de.md': 79134,\n",
       " '../code-clone-experiment/fiber-master/.github/README_es.md': 113979,\n",
       " '../code-clone-experiment/fiber-master/.github/README_fr.md': 148854,\n",
       " '../code-clone-experiment/fiber-master/.github/README_he.md': 183607,\n",
       " '../code-clone-experiment/fiber-master/.github/README_id.md': 220314,\n",
       " '../code-clone-experiment/fiber-master/.github/README_ja.md': 255323,\n",
       " '../code-clone-experiment/fiber-master/.github/README_ko.md': 290460,\n",
       " '../code-clone-experiment/fiber-master/.github/README_nl.md': 325718,\n",
       " '../code-clone-experiment/fiber-master/.github/README_pt.md': 360648,\n",
       " '../code-clone-experiment/fiber-master/.github/README_ru.md': 395173,\n",
       " '../code-clone-experiment/fiber-master/.github/README_tr.md': 432580,\n",
       " '../code-clone-experiment/fiber-master/.github/README_zh-CN.md': 467300,\n",
       " '../code-clone-experiment/fiber-master/.github/README_zh-TW.md': 502016,\n",
       " '../code-clone-experiment/fiber-master/.github/config.yml': 536177,\n",
       " '../code-clone-experiment/fiber-master/.github/fixture/testRoutes.json': 537226,\n",
       " '../code-clone-experiment/fiber-master/.github/index.html': 566040,\n",
       " '../code-clone-experiment/fiber-master/.github/index.tmpl': 566243,\n",
       " '../code-clone-experiment/fiber-master/.github/stale.yml': 566262,\n",
       " '../code-clone-experiment/fiber-master/.github/workflows/benchmark.yml': 567155,\n",
       " '../code-clone-experiment/fiber-master/.github/workflows/linter.yml': 567766,\n",
       " '../code-clone-experiment/fiber-master/.github/workflows/security.yml': 568001,\n",
       " '../code-clone-experiment/fiber-master/.github/workflows/test.yml': 568198,\n",
       " '../code-clone-experiment/fiber-master/.gitignore': 568558,\n",
       " '../code-clone-experiment/fiber-master/LICENSE': 568857,\n",
       " '../code-clone-experiment/fiber-master/SECURITY.md': 569937,\n",
       " '../code-clone-experiment/fiber-master/app.go': 572519,\n",
       " '../code-clone-experiment/fiber-master/app_test.go': 593690,\n",
       " '../code-clone-experiment/fiber-master/ctx.go': 613157,\n",
       " '../code-clone-experiment/fiber-master/ctx_test.go': 643602,\n",
       " '../code-clone-experiment/fiber-master/go.mod': 686833,\n",
       " '../code-clone-experiment/fiber-master/go.sum': 687215,\n",
       " '../code-clone-experiment/fiber-master/group.go': 689983,\n",
       " '../code-clone-experiment/fiber-master/middleware/README.md': 693976,\n",
       " '../code-clone-experiment/fiber-master/middleware/compress.go': 694691,\n",
       " '../code-clone-experiment/fiber-master/middleware/compress.md': 697452,\n",
       " '../code-clone-experiment/fiber-master/middleware/compress_test.go': 698620,\n",
       " '../code-clone-experiment/fiber-master/middleware/favicon.go': 703234,\n",
       " '../code-clone-experiment/fiber-master/middleware/favicon.md': 704153,\n",
       " '../code-clone-experiment/fiber-master/middleware/favicon_test.go': 705103,\n",
       " '../code-clone-experiment/fiber-master/middleware/filesystem.go': 707332,\n",
       " '../code-clone-experiment/fiber-master/middleware/filesystem_test.go': 712014,\n",
       " '../code-clone-experiment/fiber-master/middleware/logger.go': 712033,\n",
       " '../code-clone-experiment/fiber-master/middleware/logger.md': 719444,\n",
       " '../code-clone-experiment/fiber-master/middleware/logger_test.go': 721165,\n",
       " '../code-clone-experiment/fiber-master/middleware/recover.go': 725277,\n",
       " '../code-clone-experiment/fiber-master/middleware/recover.md': 725609,\n",
       " '../code-clone-experiment/fiber-master/middleware/recover_test.go': 726187,\n",
       " '../code-clone-experiment/fiber-master/middleware/request_id.go': 727303,\n",
       " '../code-clone-experiment/fiber-master/middleware/request_id.md': 729856,\n",
       " '../code-clone-experiment/fiber-master/middleware/request_id_test.go': 731156,\n",
       " '../code-clone-experiment/fiber-master/middleware/testdata/compress_level_-1.txt': 735390,\n",
       " '../code-clone-experiment/fiber-master/middleware/testdata/compress_level_0.txt': 735830,\n",
       " '../code-clone-experiment/fiber-master/middleware/testdata/compress_level_1.txt': 736250,\n",
       " '../code-clone-experiment/fiber-master/middleware/testdata/compress_level_2.txt': 736670,\n",
       " '../code-clone-experiment/fiber-master/middleware/testdata/favicon.ico': 737090,\n",
       " '../code-clone-experiment/fiber-master/middleware/timeout.go': 741367,\n",
       " '../code-clone-experiment/fiber-master/middleware/timeout.md': 741976,\n",
       " '../code-clone-experiment/fiber-master/middleware/timeout_test.go': 742729,\n",
       " '../code-clone-experiment/fiber-master/path.go': 744803,\n",
       " '../code-clone-experiment/fiber-master/path_test.go': 751613,\n",
       " '../code-clone-experiment/fiber-master/prefork.go': 761765,\n",
       " '../code-clone-experiment/fiber-master/reuseport.go': 766291,\n",
       " '../code-clone-experiment/fiber-master/reuseport_windows.go': 767582,\n",
       " '../code-clone-experiment/fiber-master/router.go': 768191,\n",
       " '../code-clone-experiment/fiber-master/router_test.go': 776781,\n",
       " '../code-clone-experiment/fiber-master/utils.go': 789449,\n",
       " '../code-clone-experiment/fiber-master/utils_test.go': 807899,\n",
       " '': 810714}"
      ]
     },
     "execution_count": 23,
     "metadata": {},
     "output_type": "execute_result"
    }
   ],
   "source": [
    "next(mapping)"
   ]
  },
  {
   "cell_type": "code",
   "execution_count": null,
   "metadata": {},
   "outputs": [],
   "source": []
  }
 ],
 "metadata": {
  "kernelspec": {
   "display_name": "code-clone",
   "language": "python",
   "name": "code-clone"
  },
  "language_info": {
   "codemirror_mode": {
    "name": "ipython",
    "version": 3
   },
   "file_extension": ".py",
   "mimetype": "text/x-python",
   "name": "python",
   "nbconvert_exporter": "python",
   "pygments_lexer": "ipython3",
   "version": "3.8.3"
  }
 },
 "nbformat": 4,
 "nbformat_minor": 4
}
